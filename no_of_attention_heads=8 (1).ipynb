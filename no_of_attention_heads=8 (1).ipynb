{
 "cells": [
  {
   "cell_type": "code",
   "execution_count": 1,
   "id": "346acb25",
   "metadata": {},
   "outputs": [],
   "source": [
    "# GENERAL\n",
    "import math\n",
    "import os\n",
    "import splitfolders\n",
    "import numpy as np\n",
    "# PYTORCH\n",
    "import torch\n",
    "from torch import optim, nn, utils, Tensor\n",
    "from torch.utils.data import random_split,  DataLoader\n",
    "from torch.optim.lr_scheduler import LambdaLR\n",
    "import torch.nn as nn\n",
    "import torch.nn.functional as F\n",
    "# TORCHMETRICS & TORCHVISION & TORCHSUMMARY\n",
    "import torchmetrics\n",
    "from torchvision import datasets, transforms\n",
    "from torchvision.transforms import Compose, Normalize, Resize, ToTensor, RandAugment\n",
    "from torchsummary import summary\n",
    "# LIGHTNING MODULE\n",
    "import pytorch_lightning as pl\n",
    "from pytorch_lightning.loggers import WandbLogger\n",
    "from pytorch_lightning.callbacks import LearningRateMonitor, RichProgressBar\n",
    "# HUGGINGFACE UTILITIES\n",
    "from datasets import load_dataset\n",
    "import evaluate\n",
    "from transformers import ViTFeatureExtractor, ViTForImageClassification, TrainingArguments, Trainer\n",
    "# PLOTTING & LOGGING\n",
    "import matplotlib as plt\n",
    "import matplotlib.pyplot as plt\n",
    "from matplotlib.pyplot import imshow\n",
    "from sklearn.metrics import confusion_matrix, ConfusionMatrixDisplay,accuracy_score\n",
    "import wandb"
   ]
  },
  {
   "cell_type": "code",
   "execution_count": 2,
   "id": "382bb969",
   "metadata": {},
   "outputs": [],
   "source": [
    "# Set the device to Apple Silicon M1 chip\n",
    "device = torch.device('mps')"
   ]
  },
  {
   "cell_type": "code",
   "execution_count": 3,
   "id": "f94b4856",
   "metadata": {},
   "outputs": [],
   "source": [
    "# Define general parameters\n",
    "batch_size = 64\n",
    "img_height = 224\n",
    "img_width = 224\n",
    "learning_rate = 2e-4\n",
    "epochs = 10\n",
    "num_classes = 3"
   ]
  },
  {
   "cell_type": "code",
   "execution_count": 5,
   "id": "34a45661",
   "metadata": {},
   "outputs": [
    {
     "data": {
      "application/vnd.jupyter.widget-view+json": {
       "model_id": "a1697908a90c4b328341bf7607bbf6bd",
       "version_major": 2,
       "version_minor": 0
      },
      "text/plain": [
       "Resolving data files:   0%|          | 0/6060 [00:00<?, ?it/s]"
      ]
     },
     "metadata": {},
     "output_type": "display_data"
    },
    {
     "data": {
      "application/vnd.jupyter.widget-view+json": {
       "model_id": "d3d71aa8355043aea59536fc62ce1320",
       "version_major": 2,
       "version_minor": 0
      },
      "text/plain": [
       "Resolving data files:   0%|          | 0/756 [00:00<?, ?it/s]"
      ]
     },
     "metadata": {},
     "output_type": "display_data"
    },
    {
     "data": {
      "application/vnd.jupyter.widget-view+json": {
       "model_id": "b21d3feea7094730bc1c6901f6087dcc",
       "version_major": 2,
       "version_minor": 0
      },
      "text/plain": [
       "Resolving data files:   0%|          | 0/759 [00:00<?, ?it/s]"
      ]
     },
     "metadata": {},
     "output_type": "display_data"
    },
    {
     "data": {
      "application/vnd.jupyter.widget-view+json": {
       "model_id": "788e0a9c5f144f879c4a05df71c378f0",
       "version_major": 2,
       "version_minor": 0
      },
      "text/plain": [
       "Uploading the dataset shards:   0%|          | 0/1 [00:00<?, ?it/s]"
      ]
     },
     "metadata": {},
     "output_type": "display_data"
    },
    {
     "data": {
      "application/vnd.jupyter.widget-view+json": {
       "model_id": "9f4c466d9e9a466fa9b7ca3e38a8edb6",
       "version_major": 2,
       "version_minor": 0
      },
      "text/plain": [
       "Map:   0%|          | 0/6060 [00:00<?, ? examples/s]"
      ]
     },
     "metadata": {},
     "output_type": "display_data"
    },
    {
     "data": {
      "application/vnd.jupyter.widget-view+json": {
       "model_id": "ce86607784374d5290c7d926e39aa515",
       "version_major": 2,
       "version_minor": 0
      },
      "text/plain": [
       "Creating parquet from Arrow format:   0%|          | 0/61 [00:00<?, ?ba/s]"
      ]
     },
     "metadata": {},
     "output_type": "display_data"
    },
    {
     "data": {
      "application/vnd.jupyter.widget-view+json": {
       "model_id": "f079ab7a6c6b4df8814dc0682adb233e",
       "version_major": 2,
       "version_minor": 0
      },
      "text/plain": [
       "Uploading the dataset shards:   0%|          | 0/1 [00:00<?, ?it/s]"
      ]
     },
     "metadata": {},
     "output_type": "display_data"
    },
    {
     "data": {
      "application/vnd.jupyter.widget-view+json": {
       "model_id": "151fc2afac0b4c1da68424bafac4235b",
       "version_major": 2,
       "version_minor": 0
      },
      "text/plain": [
       "Map:   0%|          | 0/756 [00:00<?, ? examples/s]"
      ]
     },
     "metadata": {},
     "output_type": "display_data"
    },
    {
     "data": {
      "application/vnd.jupyter.widget-view+json": {
       "model_id": "61f29eba250f433e910bda73c81d8027",
       "version_major": 2,
       "version_minor": 0
      },
      "text/plain": [
       "Creating parquet from Arrow format:   0%|          | 0/8 [00:00<?, ?ba/s]"
      ]
     },
     "metadata": {},
     "output_type": "display_data"
    },
    {
     "data": {
      "application/vnd.jupyter.widget-view+json": {
       "model_id": "886409bbd60741469f3d01773a8ea3f0",
       "version_major": 2,
       "version_minor": 0
      },
      "text/plain": [
       "Uploading the dataset shards:   0%|          | 0/1 [00:00<?, ?it/s]"
      ]
     },
     "metadata": {},
     "output_type": "display_data"
    },
    {
     "data": {
      "application/vnd.jupyter.widget-view+json": {
       "model_id": "05f38fa86d3b499eaf1e8dfa134283a8",
       "version_major": 2,
       "version_minor": 0
      },
      "text/plain": [
       "Map:   0%|          | 0/759 [00:00<?, ? examples/s]"
      ]
     },
     "metadata": {},
     "output_type": "display_data"
    },
    {
     "data": {
      "application/vnd.jupyter.widget-view+json": {
       "model_id": "dc7e1ec84b0140e48ffc02e0bde63d0f",
       "version_major": 2,
       "version_minor": 0
      },
      "text/plain": [
       "Creating parquet from Arrow format:   0%|          | 0/8 [00:00<?, ?ba/s]"
      ]
     },
     "metadata": {},
     "output_type": "display_data"
    }
   ],
   "source": [
    "dataset = load_dataset(\"imagefolder\", data_dir=\"./FireData\", drop_labels=False)\n",
    "\n",
    "dataset.push_to_hub(\"Shravanig/fire_detection_final\")"
   ]
  },
  {
   "cell_type": "code",
   "execution_count": 4,
   "id": "152bb6ea",
   "metadata": {},
   "outputs": [
    {
     "data": {
      "text/plain": [
       "DatasetDict({\n",
       "    train: Dataset({\n",
       "        features: ['image', 'label'],\n",
       "        num_rows: 6060\n",
       "    })\n",
       "    validation: Dataset({\n",
       "        features: ['image', 'label'],\n",
       "        num_rows: 756\n",
       "    })\n",
       "    test: Dataset({\n",
       "        features: ['image', 'label'],\n",
       "        num_rows: 759\n",
       "    })\n",
       "})"
      ]
     },
     "execution_count": 4,
     "metadata": {},
     "output_type": "execute_result"
    }
   ],
   "source": [
    "# Download the dataset from the Hub\n",
    "ds = load_dataset(\"Shravanig/fire_detection_final\")\n",
    "ds"
   ]
  },
  {
   "cell_type": "code",
   "execution_count": 5,
   "id": "02442e3e",
   "metadata": {},
   "outputs": [
    {
     "name": "stdout",
     "output_type": "stream",
     "text": [
      "Label: 0\n"
     ]
    },
    {
     "data": {
      "image/png": "[encoded data removed]",
      "text/plain": [
       "<PIL.JpegImagePlugin.JpegImageFile image mode=RGB size=259x194>"
      ]
     },
     "execution_count": 5,
     "metadata": {},
     "output_type": "execute_result"
    }
   ],
   "source": [
    "# Pick a sample from the dataset\n",
    "ex = ds['train'][667]\n",
    "print(\"Label: \" + str(ex['label']))\n",
    "ex['image']"
   ]
  },
  {
   "cell_type": "code",
   "execution_count": 6,
   "id": "88dc55e6",
   "metadata": {},
   "outputs": [
    {
     "name": "stderr",
     "output_type": "stream",
     "text": [
      "C:\\Users\\shrav\\AppData\\Local\\Programs\\Python\\Python311\\Lib\\site-packages\\transformers\\models\\vit\\feature_extraction_vit.py:28: FutureWarning: The class ViTFeatureExtractor is deprecated and will be removed in version 5 of Transformers. Please use ViTImageProcessor instead.\n",
      "  warnings.warn(\n"
     ]
    }
   ],
   "source": [
    "# Define the model to use and the feature extractor\n",
    "model_name = 'google/vit-base-patch16-224-in21k'\n",
    "feature_extractor = ViTFeatureExtractor.from_pretrained(model_name)"
   ]
  },
  {
   "cell_type": "code",
   "execution_count": 7,
   "id": "d33b5ebf",
   "metadata": {},
   "outputs": [
    {
     "data": {
      "text/plain": [
       "torch.Size([1, 3, 224, 224])"
      ]
     },
     "execution_count": 7,
     "metadata": {},
     "output_type": "execute_result"
    }
   ],
   "source": [
    "# Print shape of the tensor of a sample image\n",
    "sample_tensor = feature_extractor(ex['image'], return_tensors='pt')\n",
    "sample_tensor['pixel_values'].shape"
   ]
  },
  {
   "cell_type": "code",
   "execution_count": 8,
   "id": "466923c3",
   "metadata": {},
   "outputs": [],
   "source": [
    "# Define a normalizer\n",
    "normalize = Normalize(mean=feature_extractor.image_mean, std=feature_extractor.image_std)\n",
    "\n",
    "# Define the transformation to apply to the images from train and val samples\n",
    "_train_transforms = Compose(\n",
    "        [\n",
    "            Resize((feature_extractor.size['width'],feature_extractor.size['height'])),\n",
    "            RandAugment(num_ops=2, magnitude=9),\n",
    "            ToTensor(),\n",
    "            normalize\n",
    "        ]\n",
    "    )\n",
    "\n",
    "_val_transforms = Compose(\n",
    "        [\n",
    "            Resize((feature_extractor.size['width'],feature_extractor.size['height'])),\n",
    "            ToTensor(),\n",
    "            normalize\n",
    "        ]\n",
    "    )\n",
    "\n",
    "# Define the actual function that applies the transformations to the samples\n",
    "def train_transforms(batch):\n",
    "    batch['pixel_values'] = [_train_transforms(x.convert(\"RGB\")) for x in batch['image']]\n",
    "    return batch\n",
    "\n",
    "def val_transforms(batch):\n",
    "    batch['pixel_values'] = [_val_transforms(x.convert(\"RGB\")) for x in batch['image']]\n",
    "    return batch"
   ]
  },
  {
   "cell_type": "code",
   "execution_count": 9,
   "id": "e341be86",
   "metadata": {},
   "outputs": [],
   "source": [
    "# Apply the transformations to the samples. Note that the set_transform() functions modifies in-place.\n",
    "ds['train'].set_transform(train_transforms)\n",
    "ds['validation'].set_transform(val_transforms)\n",
    "ds['test'].set_transform(val_transforms)"
   ]
  },
  {
   "cell_type": "code",
   "execution_count": 10,
   "id": "49246a9b",
   "metadata": {},
   "outputs": [],
   "source": [
    "# Define the data collator\n",
    "def collate_fn(batch):\n",
    "    return {\n",
    "        'pixel_values': torch.stack([x['pixel_values'] for x in batch]),\n",
    "        'labels': torch.tensor([x['label'] for x in batch])\n",
    "    }"
   ]
  },
  {
   "cell_type": "code",
   "execution_count": 11,
   "id": "c5ae24c9",
   "metadata": {},
   "outputs": [],
   "source": [
    "# Copyright 2020 The HuggingFace Datasets Authors and the current dataset script contributor.\n",
    "#\n",
    "# Licensed under the Apache License, Version 2.0 (the \"License\");\n",
    "# you may not use this file except in compliance with the License.\n",
    "# You may obtain a copy of the License at\n",
    "#\n",
    "#     http://www.apache.org/licenses/LICENSE-2.0\n",
    "#\n",
    "# Unless required by applicable law or agreed to in writing, software\n",
    "# distributed under the License is distributed on an \"AS IS\" BASIS,\n",
    "# WITHOUT WARRANTIES OR CONDITIONS OF ANY KIND, either express or implied.\n",
    "# See the License for the specific language governing permissions and\n",
    "# limitations under the License.\n",
    "\"\"\"Accuracy metric.\"\"\"\n",
    "\n",
    "import datasets\n",
    "from sklearn.metrics import accuracy_score\n",
    "\n",
    "import evaluate\n",
    "\n",
    "\n",
    "_DESCRIPTION = \"\"\"\n",
    "Accuracy is the proportion of correct predictions among the total number of cases processed. It can be computed with:\n",
    "Accuracy = (TP + TN) / (TP + TN + FP + FN)\n",
    " Where:\n",
    "TP: True positive\n",
    "TN: True negative\n",
    "FP: False positive\n",
    "FN: False negative\n",
    "\"\"\"\n",
    "\n",
    "\n",
    "_KWARGS_DESCRIPTION = \"\"\"\n",
    "Args:\n",
    "    predictions (`list` of `int`): Predicted labels.\n",
    "    references (`list` of `int`): Ground truth labels.\n",
    "    normalize (`boolean`): If set to False, returns the number of correctly classified samples. Otherwise, returns the fraction of correctly classified samples. Defaults to True.\n",
    "    sample_weight (`list` of `float`): Sample weights Defaults to None.\n",
    "\n",
    "Returns:\n",
    "    accuracy (`float` or `int`): Accuracy score. Minimum possible value is 0. Maximum possible value is 1.0, or the number of examples input, if `normalize` is set to `True`.. A higher score means higher accuracy.\n",
    "\n",
    "Examples:\n",
    "\n",
    "    Example 1-A simple example\n",
    "        >>> accuracy_metric = evaluate.load(\"accuracy\")\n",
    "        >>> results = accuracy_metric.compute(references=[0, 1, 2, 0, 1, 2], predictions=[0, 1, 1, 2, 1, 0])\n",
    "        >>> print(results)\n",
    "        {'accuracy': 0.5}\n",
    "\n",
    "    Example 2-The same as Example 1, except with `normalize` set to `False`.\n",
    "        >>> accuracy_metric = evaluate.load(\"accuracy\")\n",
    "        >>> results = accuracy_metric.compute(references=[0, 1, 2, 0, 1, 2], predictions=[0, 1, 1, 2, 1, 0], normalize=False)\n",
    "        >>> print(results)\n",
    "        {'accuracy': 3.0}\n",
    "\n",
    "    Example 3-The same as Example 1, except with `sample_weight` set.\n",
    "        >>> accuracy_metric = evaluate.load(\"accuracy\")\n",
    "        >>> results = accuracy_metric.compute(references=[0, 1, 2, 0, 1, 2], predictions=[0, 1, 1, 2, 1, 0], sample_weight=[0.5, 2, 0.7, 0.5, 9, 0.4])\n",
    "        >>> print(results)\n",
    "        {'accuracy': 0.8778625954198473}\n",
    "\"\"\"\n",
    "\n",
    "\n",
    "_CITATION = \"\"\"\n",
    "@article{scikit-learn,\n",
    "  title={Scikit-learn: Machine Learning in {P}ython},\n",
    "  author={Pedregosa, F. and Varoquaux, G. and Gramfort, A. and Michel, V.\n",
    "         and Thirion, B. and Grisel, O. and Blondel, M. and Prettenhofer, P.\n",
    "         and Weiss, R. and Dubourg, V. and Vanderplas, J. and Passos, A. and\n",
    "         Cournapeau, D. and Brucher, M. and Perrot, M. and Duchesnay, E.},\n",
    "  journal={Journal of Machine Learning Research},\n",
    "  volume={12},\n",
    "  pages={2825--2830},\n",
    "  year={2011}\n",
    "}\n",
    "\"\"\"\n",
    "\n",
    "\n",
    "@evaluate.utils.file_utils.add_start_docstrings(_DESCRIPTION, _KWARGS_DESCRIPTION)\n",
    "class Accuracy(evaluate.Metric):\n",
    "    def _info(self):\n",
    "        return evaluate.MetricInfo(\n",
    "            description=_DESCRIPTION,\n",
    "            citation=_CITATION,\n",
    "            inputs_description=_KWARGS_DESCRIPTION,\n",
    "            features=datasets.Features(\n",
    "                {\n",
    "                    \"predictions\": datasets.Sequence(datasets.Value(\"int32\")),\n",
    "                    \"references\": datasets.Sequence(datasets.Value(\"int32\")),\n",
    "                }\n",
    "                if self.config_name == \"multilabel\"\n",
    "                else {\n",
    "                    \"predictions\": datasets.Value(\"int32\"),\n",
    "                    \"references\": datasets.Value(\"int32\"),\n",
    "                }\n",
    "            ),\n",
    "            reference_urls=[\"https://scikit-learn.org/stable/modules/generated/sklearn.metrics.accuracy_score.html\"],\n",
    "        )\n",
    "\n",
    "    def _compute(self, predictions, references, normalize=True, sample_weight=None):\n",
    "        return {\n",
    "            \"accuracy\": float(\n",
    "                accuracy_score(references, predictions, normalize=normalize, sample_weight=sample_weight)\n",
    "            )\n",
    "        }\n"
   ]
  },
  {
   "cell_type": "code",
   "execution_count": 12,
   "id": "9107b1a3",
   "metadata": {},
   "outputs": [],
   "source": [
    "# Copyright 2020 The HuggingFace Datasets Authors and the current dataset script contributor.\n",
    "#\n",
    "# Licensed under the Apache License, Version 2.0 (the \"License\");\n",
    "# you may not use this file except in compliance with the License.\n",
    "# You may obtain a copy of the License at\n",
    "#\n",
    "#     http://www.apache.org/licenses/LICENSE-2.0\n",
    "#\n",
    "# Unless required by applicable law or agreed to in writing, software\n",
    "# distributed under the License is distributed on an \"AS IS\" BASIS,\n",
    "# WITHOUT WARRANTIES OR CONDITIONS OF ANY KIND, either express or implied.\n",
    "# See the License for the specific language governing permissions and\n",
    "# limitations under the License.\n",
    "\"\"\"F1 metric.\"\"\"\n",
    "\n",
    "import datasets\n",
    "from sklearn.metrics import f1_score\n",
    "\n",
    "import evaluate\n",
    "\n",
    "\n",
    "_DESCRIPTION = \"\"\"\n",
    "The F1 score is the harmonic mean of the precision and recall. It can be computed with the equation:\n",
    "F1 = 2 * (precision * recall) / (precision + recall)\n",
    "\"\"\"\n",
    "\n",
    "\n",
    "_KWARGS_DESCRIPTION = \"\"\"\n",
    "Args:\n",
    "    predictions (`list` of `int`): Predicted labels.\n",
    "    references (`list` of `int`): Ground truth labels.\n",
    "    labels (`list` of `int`): The set of labels to include when `average` is not set to `'binary'`, and the order of the labels if `average` is `None`. Labels present in the data can be excluded, for example to calculate a multiclass average ignoring a majority negative class. Labels not present in the data will result in 0 components in a macro average. For multilabel targets, labels are column indices. By default, all labels in `predictions` and `references` are used in sorted order. Defaults to None.\n",
    "    pos_label (`int`): The class to be considered the positive class, in the case where `average` is set to `binary`. Defaults to 1.\n",
    "    average (`string`): This parameter is required for multiclass/multilabel targets. If set to `None`, the scores for each class are returned. Otherwise, this determines the type of averaging performed on the data. Defaults to `'binary'`.\n",
    "\n",
    "        - 'binary': Only report results for the class specified by `pos_label`. This is applicable only if the classes found in `predictions` and `references` are binary.\n",
    "        - 'micro': Calculate metrics globally by counting the total true positives, false negatives and false positives.\n",
    "        - 'macro': Calculate metrics for each label, and find their unweighted mean. This does not take label imbalance into account.\n",
    "        - 'weighted': Calculate metrics for each label, and find their average weighted by support (the number of true instances for each label). This alters `'macro'` to account for label imbalance. This option can result in an F-score that is not between precision and recall.\n",
    "        - 'samples': Calculate metrics for each instance, and find their average (only meaningful for multilabel classification).\n",
    "    sample_weight (`list` of `float`): Sample weights Defaults to None.\n",
    "\n",
    "Returns:\n",
    "    f1 (`float` or `array` of `float`): F1 score or list of f1 scores, depending on the value passed to `average`. Minimum possible value is 0. Maximum possible value is 1. Higher f1 scores are better.\n",
    "\n",
    "Examples:\n",
    "\n",
    "    Example 1-A simple binary example\n",
    "        >>> f1_metric = evaluate.load(\"f1\")\n",
    "        >>> results = f1_metric.compute(references=[0, 1, 0, 1, 0], predictions=[0, 0, 1, 1, 0])\n",
    "        >>> print(results)\n",
    "        {'f1': 0.5}\n",
    "\n",
    "    Example 2-The same simple binary example as in Example 1, but with `pos_label` set to `0`.\n",
    "        >>> f1_metric = evaluate.load(\"f1\")\n",
    "        >>> results = f1_metric.compute(references=[0, 1, 0, 1, 0], predictions=[0, 0, 1, 1, 0], pos_label=0)\n",
    "        >>> print(round(results['f1'], 2))\n",
    "        0.67\n",
    "\n",
    "    Example 3-The same simple binary example as in Example 1, but with `sample_weight` included.\n",
    "        >>> f1_metric = evaluate.load(\"f1\")\n",
    "        >>> results = f1_metric.compute(references=[0, 1, 0, 1, 0], predictions=[0, 0, 1, 1, 0], sample_weight=[0.9, 0.5, 3.9, 1.2, 0.3])\n",
    "        >>> print(round(results['f1'], 2))\n",
    "        0.35\n",
    "\n",
    "    Example 4-A multiclass example, with different values for the `average` input.\n",
    "        >>> predictions = [0, 2, 1, 0, 0, 1]\n",
    "        >>> references = [0, 1, 2, 0, 1, 2]\n",
    "        >>> results = f1_metric.compute(predictions=predictions, references=references, average=\"macro\")\n",
    "        >>> print(round(results['f1'], 2))\n",
    "        0.27\n",
    "        >>> results = f1_metric.compute(predictions=predictions, references=references, average=\"micro\")\n",
    "        >>> print(round(results['f1'], 2))\n",
    "        0.33\n",
    "        >>> results = f1_metric.compute(predictions=predictions, references=references, average=\"weighted\")\n",
    "        >>> print(round(results['f1'], 2))\n",
    "        0.27\n",
    "        >>> results = f1_metric.compute(predictions=predictions, references=references, average=None)\n",
    "        >>> print(results)\n",
    "        {'f1': array([0.8, 0. , 0. ])}\n",
    "\n",
    "    Example 5-A multi-label example\n",
    "        >>> f1_metric = evaluate.load(\"f1\", \"multilabel\")\n",
    "        >>> results = f1_metric.compute(predictions=[[0, 1, 1], [1, 1, 0]], references=[[0, 1, 1], [0, 1, 0]], average=\"macro\")\n",
    "        >>> print(round(results['f1'], 2))\n",
    "        0.67\n",
    "\"\"\"\n",
    "\n",
    "\n",
    "_CITATION = \"\"\"\n",
    "@article{scikit-learn,\n",
    "    title={Scikit-learn: Machine Learning in {P}ython},\n",
    "    author={Pedregosa, F. and Varoquaux, G. and Gramfort, A. and Michel, V.\n",
    "           and Thirion, B. and Grisel, O. and Blondel, M. and Prettenhofer, P.\n",
    "           and Weiss, R. and Dubourg, V. and Vanderplas, J. and Passos, A. and\n",
    "           Cournapeau, D. and Brucher, M. and Perrot, M. and Duchesnay, E.},\n",
    "    journal={Journal of Machine Learning Research},\n",
    "    volume={12},\n",
    "    pages={2825--2830},\n",
    "    year={2011}\n",
    "}\n",
    "\"\"\"\n",
    "\n",
    "\n",
    "@evaluate.utils.file_utils.add_start_docstrings(_DESCRIPTION, _KWARGS_DESCRIPTION)\n",
    "class F1(evaluate.Metric):\n",
    "    def _info(self):\n",
    "        return evaluate.MetricInfo(\n",
    "            description=_DESCRIPTION,\n",
    "            citation=_CITATION,\n",
    "            inputs_description=_KWARGS_DESCRIPTION,\n",
    "            features=datasets.Features(\n",
    "                {\n",
    "                    \"predictions\": datasets.Sequence(datasets.Value(\"int32\")),\n",
    "                    \"references\": datasets.Sequence(datasets.Value(\"int32\")),\n",
    "                }\n",
    "                if self.config_name == \"multilabel\"\n",
    "                else {\n",
    "                    \"predictions\": datasets.Value(\"int32\"),\n",
    "                    \"references\": datasets.Value(\"int32\"),\n",
    "                }\n",
    "            ),\n",
    "            reference_urls=[\"https://scikit-learn.org/stable/modules/generated/sklearn.metrics.f1_score.html\"],\n",
    "        )\n",
    "\n",
    "    def _compute(self, predictions, references, labels=None, pos_label=1, average=\"binary\", sample_weight=None):\n",
    "        score = f1_score(\n",
    "            references, predictions, labels=labels, pos_label=pos_label, average=average, sample_weight=sample_weight\n",
    "        )\n",
    "        return {\"f1\": float(score) if score.size == 1 else score}"
   ]
  },
  {
   "cell_type": "code",
   "execution_count": 13,
   "id": "aaae6c59",
   "metadata": {},
   "outputs": [],
   "source": [
    "# Define the function that will compute precision and recall (metrics)\n",
    "def compute_metrics(eval_pred):\n",
    "    metric1 = evaluate.load(\"precision\")\n",
    "    metric2 = evaluate.load(\"recall\")\n",
    "    metric3 = evaluate.load(\"accuracy\")\n",
    "    metric4 = evaluate.load(\"f1\")\n",
    "    #metric5 = evaluate.load(\"roc_auc\")\n",
    "    preds = np.argmax(eval_pred.predictions, axis=1)\n",
    "    labels = eval_pred.label_ids\n",
    "\n",
    "    precision = metric1.compute(predictions=preds, references=labels, average=\"weighted\")[\"precision\"]\n",
    "    recall = metric2.compute(predictions=preds, references=labels, average=\"weighted\")[\"recall\"]\n",
    "    accuracy = metric3.compute(predictions=preds, references=labels)[\"accuracy\"]\n",
    "    f1score = metric4.compute(predictions=preds, references=labels, average=\"weighted\")[\"f1\"]\n",
    "    #roc_auc = metric5.compute(prediction_scores=preds, references=labels, average=\"weighted\")[\"roc_auc\"]\n",
    "\n",
    "    return {\"precision\": precision, \"recall\": recall, \"accuracy\": accuracy,\"f1score\":f1score}\n"
   ]
  },
  {
   "cell_type": "code",
   "execution_count": 14,
   "id": "6e19858a",
   "metadata": {},
   "outputs": [
    {
     "name": "stderr",
     "output_type": "stream",
     "text": [
      "Some weights of ViTForImageClassification were not initialized from the model checkpoint at google/vit-base-patch16-224-in21k and are newly initialized: ['classifier.bias', 'classifier.weight']\n",
      "You should probably TRAIN this model on a down-stream task to be able to use it for predictions and inference.\n"
     ]
    },
    {
     "data": {
      "text/plain": [
       "ViTForImageClassification(\n",
       "  (vit): ViTModel(\n",
       "    (embeddings): ViTEmbeddings(\n",
       "      (patch_embeddings): ViTPatchEmbeddings(\n",
       "        (projection): Conv2d(3, 768, kernel_size=(16, 16), stride=(16, 16))\n",
       "      )\n",
       "      (dropout): Dropout(p=0.0, inplace=False)\n",
       "    )\n",
       "    (encoder): ViTEncoder(\n",
       "      (layer): ModuleList(\n",
       "        (0-11): 12 x ViTLayer(\n",
       "          (attention): ViTAttention(\n",
       "            (attention): ViTSelfAttention(\n",
       "              (query): Linear(in_features=768, out_features=768, bias=True)\n",
       "              (key): Linear(in_features=768, out_features=768, bias=True)\n",
       "              (value): Linear(in_features=768, out_features=768, bias=True)\n",
       "              (dropout): Dropout(p=0.0, inplace=False)\n",
       "            )\n",
       "            (output): ViTSelfOutput(\n",
       "              (dense): Linear(in_features=768, out_features=768, bias=True)\n",
       "              (dropout): Dropout(p=0.0, inplace=False)\n",
       "            )\n",
       "          )\n",
       "          (intermediate): ViTIntermediate(\n",
       "            (dense): Linear(in_features=768, out_features=3072, bias=True)\n",
       "            (intermediate_act_fn): GELUActivation()\n",
       "          )\n",
       "          (output): ViTOutput(\n",
       "            (dense): Linear(in_features=3072, out_features=768, bias=True)\n",
       "            (dropout): Dropout(p=0.0, inplace=False)\n",
       "          )\n",
       "          (layernorm_before): LayerNorm((768,), eps=1e-12, elementwise_affine=True)\n",
       "          (layernorm_after): LayerNorm((768,), eps=1e-12, elementwise_affine=True)\n",
       "        )\n",
       "      )\n",
       "    )\n",
       "    (layernorm): LayerNorm((768,), eps=1e-12, elementwise_affine=True)\n",
       "  )\n",
       "  (classifier): Linear(in_features=768, out_features=3, bias=True)\n",
       ")"
      ]
     },
     "execution_count": 14,
     "metadata": {},
     "output_type": "execute_result"
    }
   ],
   "source": [
    "# Load a pretrained model --> vit-base-patch16-224-in21k and define classes and labels\n",
    "model = ViTForImageClassification.from_pretrained(\n",
    "    model_name,\n",
    "    num_attention_heads=8,\n",
    "    num_labels = num_classes,\n",
    "    id2label = {0:'Fire', 1:'Normal', 2:'Smoke'},\n",
    "    label2id = {'Fire':0, 'Normal':1, 'Smoke':2})\n",
    "\n",
    "model.to('cpu')"
   ]
  },
  {
   "cell_type": "code",
   "execution_count": 15,
   "id": "c59e2e57",
   "metadata": {},
   "outputs": [
    {
     "name": "stdout",
     "output_type": "stream",
     "text": [
      "number Of attention heads:  8\n"
     ]
    }
   ],
   "source": [
    "print(\"number Of attention heads: \",model.config.num_attention_heads)"
   ]
  },
  {
   "cell_type": "code",
   "execution_count": 16,
   "id": "4f1d4cbc",
   "metadata": {},
   "outputs": [],
   "source": [
    "# default uses adamW optimizer\n",
    "training_args = TrainingArguments(\n",
    "  output_dir=\"Shravanig/vit-fire-detection\",\n",
    "  per_device_train_batch_size=batch_size,\n",
    "  per_device_eval_batch_size=batch_size,\n",
    "  evaluation_strategy=\"epoch\",\n",
    "  save_strategy=\"epoch\",\n",
    "  logging_steps=50,\n",
    "  num_train_epochs=epochs,\n",
    "\n",
    "  learning_rate=learning_rate,\n",
    "  weight_decay=0.01,\n",
    "  adam_beta1=0.9,\n",
    "  adam_beta2=0.999,\n",
    "  adam_epsilon=1e-8,\n",
    "  warmup_steps=100,\n",
    "\n",
    "  save_total_limit=1,\n",
    "  remove_unused_columns=False,\n",
    "  push_to_hub=\"end\", #set to \"end\" and call save_model()\n",
    "  report_to=None,\n",
    "  load_best_model_at_end=True\n",
    ")"
   ]
  },
  {
   "cell_type": "code",
   "execution_count": 17,
   "id": "ef01a696",
   "metadata": {},
   "outputs": [],
   "source": [
    "# Define the Trainer and set the parameters\n",
    "trainer = Trainer(\n",
    "    model=model,\n",
    "    args=training_args,\n",
    "    data_collator=collate_fn,\n",
    "    compute_metrics=compute_metrics,\n",
    "    train_dataset=ds[\"train\"],\n",
    "    eval_dataset=ds[\"validation\"],\n",
    "    tokenizer=feature_extractor\n",
    ")"
   ]
  },
  {
   "cell_type": "code",
   "execution_count": 18,
   "id": "88fa7e11",
   "metadata": {},
   "outputs": [
    {
     "name": "stderr",
     "output_type": "stream",
     "text": [
      "\u001b[34m\u001b[1mwandb\u001b[0m: Currently logged in as: \u001b[33mshravanig6363\u001b[0m. Use \u001b[1m`wandb login --relogin`\u001b[0m to force relogin\n"
     ]
    },
    {
     "data": {
      "text/html": [
       "wandb version 0.16.3 is available!  To upgrade, please run:\n",
       " $ pip install wandb --upgrade"
      ],
      "text/plain": [
       "<IPython.core.display.HTML object>"
      ]
     },
     "metadata": {},
     "output_type": "display_data"
    },
    {
     "data": {
      "text/html": [
       "Tracking run with wandb version 0.16.1"
      ],
      "text/plain": [
       "<IPython.core.display.HTML object>"
      ]
     },
     "metadata": {},
     "output_type": "display_data"
    },
    {
     "data": {
      "text/html": [
       "Run data is saved locally in <code>C:\\Users\\shrav\\Documents\\pendrive\\Desktop\\ViT-Fire-Detection-main\\ViT-Fire-Detection-main\\wandb\\run-20240212_172317-m9z34u1g</code>"
      ],
      "text/plain": [
       "<IPython.core.display.HTML object>"
      ]
     },
     "metadata": {},
     "output_type": "display_data"
    },
    {
     "data": {
      "text/html": [
       "Syncing run <strong><a href='https://wandb.ai/shravanig6363/huggingface/runs/m9z34u1g' target=\"_blank\">sweet-festival-24</a></strong> to <a href='https://wandb.ai/shravanig6363/huggingface' target=\"_blank\">Weights & Biases</a> (<a href='https://wandb.me/run' target=\"_blank\">docs</a>)<br/>"
      ],
      "text/plain": [
       "<IPython.core.display.HTML object>"
      ]
     },
     "metadata": {},
     "output_type": "display_data"
    },
    {
     "data": {
      "text/html": [
       " View project at <a href='https://wandb.ai/shravanig6363/huggingface' target=\"_blank\">https://wandb.ai/shravanig6363/huggingface</a>"
      ],
      "text/plain": [
       "<IPython.core.display.HTML object>"
      ]
     },
     "metadata": {},
     "output_type": "display_data"
    },
    {
     "data": {
      "text/html": [
       " View run at <a href='https://wandb.ai/shravanig6363/huggingface/runs/m9z34u1g' target=\"_blank\">https://wandb.ai/shravanig6363/huggingface/runs/m9z34u1g</a>"
      ],
      "text/plain": [
       "<IPython.core.display.HTML object>"
      ]
     },
     "metadata": {},
     "output_type": "display_data"
    },
    {
     "data": {
      "text/html": [
       "\n",
       "    <div>\n",
       "      \n",
       "      <progress value='950' max='950' style='width:300px; height:20px; vertical-align: middle;'></progress>\n",
       "      [950/950 52:37:40, Epoch 10/10]\n",
       "    </div>\n",
       "    <table border=\"1\" class=\"dataframe\">\n",
       "  <thead>\n",
       " <tr style=\"text-align: left;\">\n",
       "      <th>Epoch</th>\n",
       "      <th>Training Loss</th>\n",
       "      <th>Validation Loss</th>\n",
       "      <th>Precision</th>\n",
       "      <th>Recall</th>\n",
       "      <th>Accuracy</th>\n",
       "      <th>F1score</th>\n",
       "    </tr>\n",
       "  </thead>\n",
       "  <tbody>\n",
       "    <tr>\n",
       "      <td>1</td>\n",
       "      <td>0.590600</td>\n",
       "      <td>0.059412</td>\n",
       "      <td>0.985495</td>\n",
       "      <td>0.985450</td>\n",
       "      <td>0.985450</td>\n",
       "      <td>0.985449</td>\n",
       "    </tr>\n",
       "    <tr>\n",
       "      <td>2</td>\n",
       "      <td>0.081200</td>\n",
       "      <td>0.044709</td>\n",
       "      <td>0.990787</td>\n",
       "      <td>0.990741</td>\n",
       "      <td>0.990741</td>\n",
       "      <td>0.990740</td>\n",
       "    </tr>\n",
       "    <tr>\n",
       "      <td>3</td>\n",
       "      <td>0.057500</td>\n",
       "      <td>0.077926</td>\n",
       "      <td>0.977778</td>\n",
       "      <td>0.976190</td>\n",
       "      <td>0.976190</td>\n",
       "      <td>0.976160</td>\n",
       "    </tr>\n",
       "    <tr>\n",
       "      <td>4</td>\n",
       "      <td>0.036000</td>\n",
       "      <td>0.024204</td>\n",
       "      <td>0.993515</td>\n",
       "      <td>0.993386</td>\n",
       "      <td>0.993386</td>\n",
       "      <td>0.993386</td>\n",
       "    </tr>\n",
       "    <tr>\n",
       "      <td>5</td>\n",
       "      <td>0.039500</td>\n",
       "      <td>0.028332</td>\n",
       "      <td>0.992145</td>\n",
       "      <td>0.992063</td>\n",
       "      <td>0.992063</td>\n",
       "      <td>0.992063</td>\n",
       "    </tr>\n",
       "    <tr>\n",
       "      <td>6</td>\n",
       "      <td>0.022500</td>\n",
       "      <td>0.016911</td>\n",
       "      <td>0.994709</td>\n",
       "      <td>0.994709</td>\n",
       "      <td>0.994709</td>\n",
       "      <td>0.994709</td>\n",
       "    </tr>\n",
       "    <tr>\n",
       "      <td>7</td>\n",
       "      <td>0.016500</td>\n",
       "      <td>0.020455</td>\n",
       "      <td>0.993391</td>\n",
       "      <td>0.993386</td>\n",
       "      <td>0.993386</td>\n",
       "      <td>0.993386</td>\n",
       "    </tr>\n",
       "    <tr>\n",
       "      <td>8</td>\n",
       "      <td>0.009900</td>\n",
       "      <td>0.018024</td>\n",
       "      <td>0.996037</td>\n",
       "      <td>0.996032</td>\n",
       "      <td>0.996032</td>\n",
       "      <td>0.996032</td>\n",
       "    </tr>\n",
       "    <tr>\n",
       "      <td>9</td>\n",
       "      <td>0.007400</td>\n",
       "      <td>0.025498</td>\n",
       "      <td>0.994730</td>\n",
       "      <td>0.994709</td>\n",
       "      <td>0.994709</td>\n",
       "      <td>0.994709</td>\n",
       "    </tr>\n",
       "    <tr>\n",
       "      <td>10</td>\n",
       "      <td>0.005500</td>\n",
       "      <td>0.024957</td>\n",
       "      <td>0.993433</td>\n",
       "      <td>0.993386</td>\n",
       "      <td>0.993386</td>\n",
       "      <td>0.993386</td>\n",
       "    </tr>\n",
       "  </tbody>\n",
       "</table><p>"
      ],
      "text/plain": [
       "<IPython.core.display.HTML object>"
      ]
     },
     "metadata": {},
     "output_type": "display_data"
    },
    {
     "name": "stdout",
     "output_type": "stream",
     "text": [
      "***** train metrics *****\n",
      "  epoch                    =               10.0\n",
      "  total_flos               =       4373543578GF\n",
      "  train_loss               =             0.0638\n",
      "  train_runtime            = 2 days, 4:40:47.39\n",
      "  train_samples_per_second =               0.32\n",
      "  train_steps_per_second   =              0.005\n",
      "***** eval metrics *****\n",
      "  epoch                    =               10.0\n",
      "  total_flos               =       4373543578GF\n",
      "  train_loss               =             0.0638\n",
      "  train_runtime            = 2 days, 4:40:47.39\n",
      "  train_samples_per_second =               0.32\n",
      "  train_steps_per_second   =              0.005\n"
     ]
    },
    {
     "data": {
      "application/vnd.jupyter.widget-view+json": {
       "model_id": "",
       "version_major": 2,
       "version_minor": 0
      },
      "text/plain": [
       "VBox(children=(Label(value='0.001 MB of 0.001 MB uploaded\\r'), FloatProgress(value=1.0, max=1.0)))"
      ]
     },
     "metadata": {},
     "output_type": "display_data"
    },
    {
     "data": {
      "text/html": [
       "<style>\n",
       "    table.wandb td:nth-child(1) { padding: 0 10px; text-align: left ; width: auto;} td:nth-child(2) {text-align: left ; width: 100%}\n",
       "    .wandb-row { display: flex; flex-direction: row; flex-wrap: wrap; justify-content: flex-start; width: 100% }\n",
       "    .wandb-col { display: flex; flex-direction: column; flex-basis: 100%; flex: 1; padding: 10px; }\n",
       "    </style>\n",
       "<div class=\"wandb-row\"><div class=\"wandb-col\"><h3>Run history:</h3><br/><table class=\"wandb\"><tr><td>eval/accuracy</td><td>▄▆▁▇▇█▇██▇</td></tr><tr><td>eval/f1score</td><td>▄▆▁▇▇█▇██▇</td></tr><tr><td>eval/loss</td><td>▆▄█▂▂▁▁▁▂▂</td></tr><tr><td>eval/precision</td><td>▄▆▁▇▇▇▇█▇▇</td></tr><tr><td>eval/recall</td><td>▄▆▁▇▇█▇██▇</td></tr><tr><td>eval/runtime</td><td>▁▁▁█▂▁▅▁▁▁</td></tr><tr><td>eval/samples_per_second</td><td>█▇▇▁▆▇▂█▇█</td></tr><tr><td>eval/steps_per_second</td><td>█▇▇▁▆▇▂█▇█</td></tr><tr><td>train/epoch</td><td>▁▁▁▂▂▂▃▃▃▃▄▄▄▄▄▅▅▅▆▆▆▆▇▇▇▇████</td></tr><tr><td>train/global_step</td><td>▁▁▁▂▂▂▃▃▃▃▄▄▄▄▅▅▅▅▆▆▆▆▇▇▇▇████</td></tr><tr><td>train/learning_rate</td><td>▅██▇▇▆▆▆▅▅▄▄▃▃▃▂▂▁▁</td></tr><tr><td>train/loss</td><td>█▂▂▂▂▂▁▁▁▁▁▁▁▁▁▁▁▁▁</td></tr><tr><td>train/total_flos</td><td>▁</td></tr><tr><td>train/train_loss</td><td>▁</td></tr><tr><td>train/train_runtime</td><td>▁</td></tr><tr><td>train/train_samples_per_second</td><td>▁</td></tr><tr><td>train/train_steps_per_second</td><td>▁</td></tr></table><br/></div><div class=\"wandb-col\"><h3>Run summary:</h3><br/><table class=\"wandb\"><tr><td>eval/accuracy</td><td>0.99339</td></tr><tr><td>eval/f1score</td><td>0.99339</td></tr><tr><td>eval/loss</td><td>0.02496</td></tr><tr><td>eval/precision</td><td>0.99343</td></tr><tr><td>eval/recall</td><td>0.99339</td></tr><tr><td>eval/runtime</td><td>222.4348</td></tr><tr><td>eval/samples_per_second</td><td>3.399</td></tr><tr><td>eval/steps_per_second</td><td>0.054</td></tr><tr><td>train/epoch</td><td>10.0</td></tr><tr><td>train/global_step</td><td>950</td></tr><tr><td>train/learning_rate</td><td>0.0</td></tr><tr><td>train/loss</td><td>0.0055</td></tr><tr><td>train/total_flos</td><td>4.69605665953751e+18</td></tr><tr><td>train/train_loss</td><td>0.06375</td></tr><tr><td>train/train_runtime</td><td>189647.3992</td></tr><tr><td>train/train_samples_per_second</td><td>0.32</td></tr><tr><td>train/train_steps_per_second</td><td>0.005</td></tr></table><br/></div></div>"
      ],
      "text/plain": [
       "<IPython.core.display.HTML object>"
      ]
     },
     "metadata": {},
     "output_type": "display_data"
    },
    {
     "data": {
      "text/html": [
       " View run <strong style=\"color:#cdcd00\">sweet-festival-24</strong> at: <a href='https://wandb.ai/shravanig6363/huggingface/runs/m9z34u1g' target=\"_blank\">https://wandb.ai/shravanig6363/huggingface/runs/m9z34u1g</a><br/>Synced 5 W&B file(s), 0 media file(s), 0 artifact file(s) and 0 other file(s)"
      ],
      "text/plain": [
       "<IPython.core.display.HTML object>"
      ]
     },
     "metadata": {},
     "output_type": "display_data"
    },
    {
     "data": {
      "text/html": [
       "Find logs at: <code>.\\wandb\\run-20240212_172317-m9z34u1g\\logs</code>"
      ],
      "text/plain": [
       "<IPython.core.display.HTML object>"
      ]
     },
     "metadata": {},
     "output_type": "display_data"
    }
   ],
   "source": [
    "# Traine the model logging metrics and reporting to WanDB.\n",
    "train_results = trainer.train()\n",
    "trainer.log_metrics(\"train\", train_results.metrics)\n",
    "trainer.log_metrics(\"eval\", train_results.metrics)\n",
    "wandb.finish()"
   ]
  },
  {
   "cell_type": "code",
   "execution_count": 19,
   "id": "860683d5",
   "metadata": {},
   "outputs": [
    {
     "data": {
      "text/html": [],
      "text/plain": [
       "<IPython.core.display.HTML object>"
      ]
     },
     "metadata": {},
     "output_type": "display_data"
    },
    {
     "name": "stdout",
     "output_type": "stream",
     "text": [
      "{'test_loss': 0.006278027780354023, 'test_precision': 0.9986876640419947, 'test_recall': 0.9986824769433466, 'test_accuracy': 0.9986824769433466, 'test_f1score': 0.9986824717974755, 'test_runtime': 721.0502, 'test_samples_per_second': 1.053, 'test_steps_per_second': 0.017}\n"
     ]
    }
   ],
   "source": [
    "# Evaluate the trained model\n",
    "outputs = trainer.predict(ds['test'])\n",
    "print(outputs.metrics)"
   ]
  },
  {
   "cell_type": "code",
   "execution_count": 20,
   "id": "fee7d93c",
   "metadata": {},
   "outputs": [
    {
     "data": {
      "text/plain": [
       "<sklearn.metrics._plot.confusion_matrix.ConfusionMatrixDisplay at 0x270febb0750>"
      ]
     },
     "execution_count": 20,
     "metadata": {},
     "output_type": "execute_result"
    },
    {
     "data": {
      "image/png": "[encoded data removed]",
      "text/plain": [
       "<Figure size 640x480 with 2 Axes>"
      ]
     },
     "metadata": {},
     "output_type": "display_data"
    }
   ],
   "source": [
    "# Compute and visualize the confusion matrix with results from the trained model\n",
    "y_true = outputs.label_ids\n",
    "y_pred = outputs.predictions.argmax(1)\n",
    "\n",
    "labels = ['Fire', 'Normal', 'Smoke']\n",
    "cm = confusion_matrix(y_true, y_pred)\n",
    "disp = ConfusionMatrixDisplay(confusion_matrix=cm, display_labels=labels)\n",
    "disp.plot(xticks_rotation=45)"
   ]
  },
  {
   "cell_type": "code",
   "execution_count": 21,
   "id": "e317d6e8",
   "metadata": {},
   "outputs": [],
   "source": [
    "# Upload the model to the Hub to make it accesible and public\n",
    "trainer.save_model()"
   ]
  },
  {
   "cell_type": "code",
   "execution_count": 22,
   "id": "ea47a528",
   "metadata": {},
   "outputs": [],
   "source": [
    "from transformers import pipeline\n",
    "from PIL import Image\n",
    "\n",
    "image = Image.open(\"./APP/fog.jpeg\")\n",
    "pipeline = pipeline(task=\"image-classification\", model=\"EdBianchi/vit-fire-detection\")\n",
    "predictions = pipeline(image)"
   ]
  },
  {
   "cell_type": "code",
   "execution_count": 23,
   "id": "7ad62ea1",
   "metadata": {},
   "outputs": [
    {
     "data": {
      "text/plain": [
       "[{'score': 0.9969804883003235, 'label': 'Normal'},\n",
       " {'score': 0.002715625800192356, 'label': 'Fire'},\n",
       " {'score': 0.0003038903814740479, 'label': 'Smoke'}]"
      ]
     },
     "execution_count": 23,
     "metadata": {},
     "output_type": "execute_result"
    }
   ],
   "source": [
    "predictions"
   ]
  },
  {
   "cell_type": "code",
   "execution_count": 24,
   "id": "09e4037f",
   "metadata": {},
   "outputs": [],
   "source": [
    "image.show()"
   ]
  },
  {
   "cell_type": "code",
   "execution_count": null,
   "id": "3362d253",
   "metadata": {},
   "outputs": [],
   "source": []
  }
 ],
 "metadata": {
  "kernelspec": {
   "display_name": "Python 3 (ipykernel)",
   "language": "python",
   "name": "python3"
  },
  "language_info": {
   "codemirror_mode": {
    "name": "ipython",
    "version": 3
   },
   "file_extension": ".py",
   "mimetype": "text/x-python",
   "name": "python",
   "nbconvert_exporter": "python",
   "pygments_lexer": "ipython3",
   "version": "3.11.2"
  }
 },
 "nbformat": 4,
 "nbformat_minor": 5
}
